{
  "nbformat": 4,
  "nbformat_minor": 0,
  "metadata": {
    "colab": {
      "provenance": [],
      "authorship_tag": "ABX9TyOudu4jXw0uOnF3nWJiFn5T",
      "include_colab_link": true
    },
    "kernelspec": {
      "name": "python3",
      "display_name": "Python 3"
    },
    "language_info": {
      "name": "python"
    }
  },
  "cells": [
    {
      "cell_type": "markdown",
      "metadata": {
        "id": "view-in-github",
        "colab_type": "text"
      },
      "source": [
        "<a href=\"https://colab.research.google.com/github/nepridumalnik/Jupyter-Notebooks/blob/master/pytorch/tutorials/PyTorch_Quickstart.ipynb\" target=\"_parent\"><img src=\"https://colab.research.google.com/assets/colab-badge.svg\" alt=\"Open In Colab\"/></a>"
      ]
    },
    {
      "cell_type": "markdown",
      "source": [
        "# Быстрый старт\n",
        "## Работа с данными\n",
        "\n",
        "PyTorch имеет два примитива для работы с данными - `torch.utils.data.DataLoader` и `torch.utils.data.Dataset`. `Dataset` хранит образцы и соответствующие им лейблы, а `DataLoader` оборачивают итераторы вокруг данных."
      ],
      "metadata": {
        "id": "ob4Q-p8DWoC2"
      }
    },
    {
      "cell_type": "code",
      "execution_count": 1,
      "metadata": {
        "id": "iJVk2JpfT8a2"
      },
      "outputs": [],
      "source": [
        "import torch\n",
        "from torch import nn\n",
        "from torch.utils.data import DataLoader\n",
        "from torchvision import datasets\n",
        "from torchvision.transforms import ToTensor\n"
      ]
    },
    {
      "cell_type": "markdown",
      "source": [
        "PyTorch предоставляет домен-специфичные библиотеки, такие как [TorchText](https://pytorch.org/text/stable/index.html), [TorchVision](https://pytorch.org/vision/stable/index.html) и [TorchAudio](https://pytorch.org/audio/stable/index.html), каждый из которых содержит наборы данных.\n",
        "\n",
        "Набор данных модуля `torchvision.datasets` содержит `Dataset` объекты наборов данных для многих реальных визуальных данных. Каждый `Dataset` из `TorchVision` содержит два аргумента `transform` и `target_transform` для модификации образцов и лейблов соответственно."
      ],
      "metadata": {
        "id": "rifxZuLzXHLJ"
      }
    },
    {
      "cell_type": "code",
      "source": [
        "DATASET_ROOT: str = \"data\"\n",
        "\n",
        "# Загрузка тренировочных данных открытого набора данных.\n",
        "training_data = datasets.FashionMNIST(\n",
        "    root=DATASET_ROOT,\n",
        "    train=True,\n",
        "    download=True,\n",
        "    transform=ToTensor(),\n",
        ")\n",
        "\n",
        "# Загрузка тестовых данных открытого набора данных.\n",
        "test_data = datasets.FashionMNIST(\n",
        "    root=DATASET_ROOT,\n",
        "    train=False,\n",
        "    download=True,\n",
        "    transform=ToTensor(),\n",
        ")\n"
      ],
      "metadata": {
        "id": "GH6KN8t1V-qQ"
      },
      "execution_count": 2,
      "outputs": []
    },
    {
      "cell_type": "markdown",
      "source": [
        "Мы передаём `Dataset` как аргумент в `DataLoader`, это оборачивает в итератор наш набор данных и поддерживает автоматическое разделение на группы, сэмплирование, перемешивание и мультипроцессную загрузку данных. Здесь мы определяем группу (`batch`) размером 64, т.е. каждый элемент загрузчика данных итерирует по группе из 64-х элементов данных и лейблов."
      ],
      "metadata": {
        "id": "XLjNQrYuYKFi"
      }
    },
    {
      "cell_type": "code",
      "source": [
        "batch_size = 64\n",
        "\n",
        "# Создать загрузчика данных.\n",
        "train_dataloader = DataLoader(training_data, batch_size=batch_size)\n",
        "test_dataloader = DataLoader(test_data, batch_size=batch_size)\n",
        "\n",
        "for x, y in test_dataloader:\n",
        "    print(f\"Shape of x [n, c, h, w]: {x.shape}\")\n",
        "    print(f\"Shape of y: {y.shape}\")\n"
      ],
      "metadata": {
        "colab": {
          "base_uri": "https://localhost:8080/"
        },
        "collapsed": true,
        "id": "AYkfD7LwY_pl",
        "outputId": "9ae3c2a6-8181-4081-c199-3a272883a249"
      },
      "execution_count": 3,
      "outputs": [
        {
          "output_type": "stream",
          "name": "stdout",
          "text": [
            "Shape of x [n, c, h, w]: torch.Size([64, 1, 28, 28])\n",
            "Shape of y: torch.Size([64])\n",
            "Shape of x [n, c, h, w]: torch.Size([64, 1, 28, 28])\n",
            "Shape of y: torch.Size([64])\n",
            "Shape of x [n, c, h, w]: torch.Size([64, 1, 28, 28])\n",
            "Shape of y: torch.Size([64])\n",
            "Shape of x [n, c, h, w]: torch.Size([64, 1, 28, 28])\n",
            "Shape of y: torch.Size([64])\n",
            "Shape of x [n, c, h, w]: torch.Size([64, 1, 28, 28])\n",
            "Shape of y: torch.Size([64])\n",
            "Shape of x [n, c, h, w]: torch.Size([64, 1, 28, 28])\n",
            "Shape of y: torch.Size([64])\n",
            "Shape of x [n, c, h, w]: torch.Size([64, 1, 28, 28])\n",
            "Shape of y: torch.Size([64])\n",
            "Shape of x [n, c, h, w]: torch.Size([64, 1, 28, 28])\n",
            "Shape of y: torch.Size([64])\n",
            "Shape of x [n, c, h, w]: torch.Size([64, 1, 28, 28])\n",
            "Shape of y: torch.Size([64])\n",
            "Shape of x [n, c, h, w]: torch.Size([64, 1, 28, 28])\n",
            "Shape of y: torch.Size([64])\n",
            "Shape of x [n, c, h, w]: torch.Size([64, 1, 28, 28])\n",
            "Shape of y: torch.Size([64])\n",
            "Shape of x [n, c, h, w]: torch.Size([64, 1, 28, 28])\n",
            "Shape of y: torch.Size([64])\n",
            "Shape of x [n, c, h, w]: torch.Size([64, 1, 28, 28])\n",
            "Shape of y: torch.Size([64])\n",
            "Shape of x [n, c, h, w]: torch.Size([64, 1, 28, 28])\n",
            "Shape of y: torch.Size([64])\n",
            "Shape of x [n, c, h, w]: torch.Size([64, 1, 28, 28])\n",
            "Shape of y: torch.Size([64])\n",
            "Shape of x [n, c, h, w]: torch.Size([64, 1, 28, 28])\n",
            "Shape of y: torch.Size([64])\n",
            "Shape of x [n, c, h, w]: torch.Size([64, 1, 28, 28])\n",
            "Shape of y: torch.Size([64])\n",
            "Shape of x [n, c, h, w]: torch.Size([64, 1, 28, 28])\n",
            "Shape of y: torch.Size([64])\n",
            "Shape of x [n, c, h, w]: torch.Size([64, 1, 28, 28])\n",
            "Shape of y: torch.Size([64])\n",
            "Shape of x [n, c, h, w]: torch.Size([64, 1, 28, 28])\n",
            "Shape of y: torch.Size([64])\n",
            "Shape of x [n, c, h, w]: torch.Size([64, 1, 28, 28])\n",
            "Shape of y: torch.Size([64])\n",
            "Shape of x [n, c, h, w]: torch.Size([64, 1, 28, 28])\n",
            "Shape of y: torch.Size([64])\n",
            "Shape of x [n, c, h, w]: torch.Size([64, 1, 28, 28])\n",
            "Shape of y: torch.Size([64])\n",
            "Shape of x [n, c, h, w]: torch.Size([64, 1, 28, 28])\n",
            "Shape of y: torch.Size([64])\n",
            "Shape of x [n, c, h, w]: torch.Size([64, 1, 28, 28])\n",
            "Shape of y: torch.Size([64])\n",
            "Shape of x [n, c, h, w]: torch.Size([64, 1, 28, 28])\n",
            "Shape of y: torch.Size([64])\n",
            "Shape of x [n, c, h, w]: torch.Size([64, 1, 28, 28])\n",
            "Shape of y: torch.Size([64])\n",
            "Shape of x [n, c, h, w]: torch.Size([64, 1, 28, 28])\n",
            "Shape of y: torch.Size([64])\n",
            "Shape of x [n, c, h, w]: torch.Size([64, 1, 28, 28])\n",
            "Shape of y: torch.Size([64])\n",
            "Shape of x [n, c, h, w]: torch.Size([64, 1, 28, 28])\n",
            "Shape of y: torch.Size([64])\n",
            "Shape of x [n, c, h, w]: torch.Size([64, 1, 28, 28])\n",
            "Shape of y: torch.Size([64])\n",
            "Shape of x [n, c, h, w]: torch.Size([64, 1, 28, 28])\n",
            "Shape of y: torch.Size([64])\n",
            "Shape of x [n, c, h, w]: torch.Size([64, 1, 28, 28])\n",
            "Shape of y: torch.Size([64])\n",
            "Shape of x [n, c, h, w]: torch.Size([64, 1, 28, 28])\n",
            "Shape of y: torch.Size([64])\n",
            "Shape of x [n, c, h, w]: torch.Size([64, 1, 28, 28])\n",
            "Shape of y: torch.Size([64])\n",
            "Shape of x [n, c, h, w]: torch.Size([64, 1, 28, 28])\n",
            "Shape of y: torch.Size([64])\n",
            "Shape of x [n, c, h, w]: torch.Size([64, 1, 28, 28])\n",
            "Shape of y: torch.Size([64])\n",
            "Shape of x [n, c, h, w]: torch.Size([64, 1, 28, 28])\n",
            "Shape of y: torch.Size([64])\n",
            "Shape of x [n, c, h, w]: torch.Size([64, 1, 28, 28])\n",
            "Shape of y: torch.Size([64])\n",
            "Shape of x [n, c, h, w]: torch.Size([64, 1, 28, 28])\n",
            "Shape of y: torch.Size([64])\n",
            "Shape of x [n, c, h, w]: torch.Size([64, 1, 28, 28])\n",
            "Shape of y: torch.Size([64])\n",
            "Shape of x [n, c, h, w]: torch.Size([64, 1, 28, 28])\n",
            "Shape of y: torch.Size([64])\n",
            "Shape of x [n, c, h, w]: torch.Size([64, 1, 28, 28])\n",
            "Shape of y: torch.Size([64])\n",
            "Shape of x [n, c, h, w]: torch.Size([64, 1, 28, 28])\n",
            "Shape of y: torch.Size([64])\n",
            "Shape of x [n, c, h, w]: torch.Size([64, 1, 28, 28])\n",
            "Shape of y: torch.Size([64])\n",
            "Shape of x [n, c, h, w]: torch.Size([64, 1, 28, 28])\n",
            "Shape of y: torch.Size([64])\n",
            "Shape of x [n, c, h, w]: torch.Size([64, 1, 28, 28])\n",
            "Shape of y: torch.Size([64])\n",
            "Shape of x [n, c, h, w]: torch.Size([64, 1, 28, 28])\n",
            "Shape of y: torch.Size([64])\n",
            "Shape of x [n, c, h, w]: torch.Size([64, 1, 28, 28])\n",
            "Shape of y: torch.Size([64])\n",
            "Shape of x [n, c, h, w]: torch.Size([64, 1, 28, 28])\n",
            "Shape of y: torch.Size([64])\n",
            "Shape of x [n, c, h, w]: torch.Size([64, 1, 28, 28])\n",
            "Shape of y: torch.Size([64])\n",
            "Shape of x [n, c, h, w]: torch.Size([64, 1, 28, 28])\n",
            "Shape of y: torch.Size([64])\n",
            "Shape of x [n, c, h, w]: torch.Size([64, 1, 28, 28])\n",
            "Shape of y: torch.Size([64])\n",
            "Shape of x [n, c, h, w]: torch.Size([64, 1, 28, 28])\n",
            "Shape of y: torch.Size([64])\n",
            "Shape of x [n, c, h, w]: torch.Size([64, 1, 28, 28])\n",
            "Shape of y: torch.Size([64])\n",
            "Shape of x [n, c, h, w]: torch.Size([64, 1, 28, 28])\n",
            "Shape of y: torch.Size([64])\n",
            "Shape of x [n, c, h, w]: torch.Size([64, 1, 28, 28])\n",
            "Shape of y: torch.Size([64])\n",
            "Shape of x [n, c, h, w]: torch.Size([64, 1, 28, 28])\n",
            "Shape of y: torch.Size([64])\n",
            "Shape of x [n, c, h, w]: torch.Size([64, 1, 28, 28])\n",
            "Shape of y: torch.Size([64])\n",
            "Shape of x [n, c, h, w]: torch.Size([64, 1, 28, 28])\n",
            "Shape of y: torch.Size([64])\n",
            "Shape of x [n, c, h, w]: torch.Size([64, 1, 28, 28])\n",
            "Shape of y: torch.Size([64])\n",
            "Shape of x [n, c, h, w]: torch.Size([64, 1, 28, 28])\n",
            "Shape of y: torch.Size([64])\n",
            "Shape of x [n, c, h, w]: torch.Size([64, 1, 28, 28])\n",
            "Shape of y: torch.Size([64])\n",
            "Shape of x [n, c, h, w]: torch.Size([64, 1, 28, 28])\n",
            "Shape of y: torch.Size([64])\n",
            "Shape of x [n, c, h, w]: torch.Size([64, 1, 28, 28])\n",
            "Shape of y: torch.Size([64])\n",
            "Shape of x [n, c, h, w]: torch.Size([64, 1, 28, 28])\n",
            "Shape of y: torch.Size([64])\n",
            "Shape of x [n, c, h, w]: torch.Size([64, 1, 28, 28])\n",
            "Shape of y: torch.Size([64])\n",
            "Shape of x [n, c, h, w]: torch.Size([64, 1, 28, 28])\n",
            "Shape of y: torch.Size([64])\n",
            "Shape of x [n, c, h, w]: torch.Size([64, 1, 28, 28])\n",
            "Shape of y: torch.Size([64])\n",
            "Shape of x [n, c, h, w]: torch.Size([64, 1, 28, 28])\n",
            "Shape of y: torch.Size([64])\n",
            "Shape of x [n, c, h, w]: torch.Size([64, 1, 28, 28])\n",
            "Shape of y: torch.Size([64])\n",
            "Shape of x [n, c, h, w]: torch.Size([64, 1, 28, 28])\n",
            "Shape of y: torch.Size([64])\n",
            "Shape of x [n, c, h, w]: torch.Size([64, 1, 28, 28])\n",
            "Shape of y: torch.Size([64])\n",
            "Shape of x [n, c, h, w]: torch.Size([64, 1, 28, 28])\n",
            "Shape of y: torch.Size([64])\n",
            "Shape of x [n, c, h, w]: torch.Size([64, 1, 28, 28])\n",
            "Shape of y: torch.Size([64])\n",
            "Shape of x [n, c, h, w]: torch.Size([64, 1, 28, 28])\n",
            "Shape of y: torch.Size([64])\n",
            "Shape of x [n, c, h, w]: torch.Size([64, 1, 28, 28])\n",
            "Shape of y: torch.Size([64])\n",
            "Shape of x [n, c, h, w]: torch.Size([64, 1, 28, 28])\n",
            "Shape of y: torch.Size([64])\n",
            "Shape of x [n, c, h, w]: torch.Size([64, 1, 28, 28])\n",
            "Shape of y: torch.Size([64])\n",
            "Shape of x [n, c, h, w]: torch.Size([64, 1, 28, 28])\n",
            "Shape of y: torch.Size([64])\n",
            "Shape of x [n, c, h, w]: torch.Size([64, 1, 28, 28])\n",
            "Shape of y: torch.Size([64])\n",
            "Shape of x [n, c, h, w]: torch.Size([64, 1, 28, 28])\n",
            "Shape of y: torch.Size([64])\n",
            "Shape of x [n, c, h, w]: torch.Size([64, 1, 28, 28])\n",
            "Shape of y: torch.Size([64])\n",
            "Shape of x [n, c, h, w]: torch.Size([64, 1, 28, 28])\n",
            "Shape of y: torch.Size([64])\n",
            "Shape of x [n, c, h, w]: torch.Size([64, 1, 28, 28])\n",
            "Shape of y: torch.Size([64])\n",
            "Shape of x [n, c, h, w]: torch.Size([64, 1, 28, 28])\n",
            "Shape of y: torch.Size([64])\n",
            "Shape of x [n, c, h, w]: torch.Size([64, 1, 28, 28])\n",
            "Shape of y: torch.Size([64])\n",
            "Shape of x [n, c, h, w]: torch.Size([64, 1, 28, 28])\n",
            "Shape of y: torch.Size([64])\n",
            "Shape of x [n, c, h, w]: torch.Size([64, 1, 28, 28])\n",
            "Shape of y: torch.Size([64])\n",
            "Shape of x [n, c, h, w]: torch.Size([64, 1, 28, 28])\n",
            "Shape of y: torch.Size([64])\n",
            "Shape of x [n, c, h, w]: torch.Size([64, 1, 28, 28])\n",
            "Shape of y: torch.Size([64])\n",
            "Shape of x [n, c, h, w]: torch.Size([64, 1, 28, 28])\n",
            "Shape of y: torch.Size([64])\n",
            "Shape of x [n, c, h, w]: torch.Size([64, 1, 28, 28])\n",
            "Shape of y: torch.Size([64])\n",
            "Shape of x [n, c, h, w]: torch.Size([64, 1, 28, 28])\n",
            "Shape of y: torch.Size([64])\n",
            "Shape of x [n, c, h, w]: torch.Size([64, 1, 28, 28])\n",
            "Shape of y: torch.Size([64])\n",
            "Shape of x [n, c, h, w]: torch.Size([64, 1, 28, 28])\n",
            "Shape of y: torch.Size([64])\n",
            "Shape of x [n, c, h, w]: torch.Size([64, 1, 28, 28])\n",
            "Shape of y: torch.Size([64])\n",
            "Shape of x [n, c, h, w]: torch.Size([64, 1, 28, 28])\n",
            "Shape of y: torch.Size([64])\n",
            "Shape of x [n, c, h, w]: torch.Size([64, 1, 28, 28])\n",
            "Shape of y: torch.Size([64])\n",
            "Shape of x [n, c, h, w]: torch.Size([64, 1, 28, 28])\n",
            "Shape of y: torch.Size([64])\n",
            "Shape of x [n, c, h, w]: torch.Size([64, 1, 28, 28])\n",
            "Shape of y: torch.Size([64])\n",
            "Shape of x [n, c, h, w]: torch.Size([64, 1, 28, 28])\n",
            "Shape of y: torch.Size([64])\n",
            "Shape of x [n, c, h, w]: torch.Size([64, 1, 28, 28])\n",
            "Shape of y: torch.Size([64])\n",
            "Shape of x [n, c, h, w]: torch.Size([64, 1, 28, 28])\n",
            "Shape of y: torch.Size([64])\n",
            "Shape of x [n, c, h, w]: torch.Size([64, 1, 28, 28])\n",
            "Shape of y: torch.Size([64])\n",
            "Shape of x [n, c, h, w]: torch.Size([64, 1, 28, 28])\n",
            "Shape of y: torch.Size([64])\n",
            "Shape of x [n, c, h, w]: torch.Size([64, 1, 28, 28])\n",
            "Shape of y: torch.Size([64])\n",
            "Shape of x [n, c, h, w]: torch.Size([64, 1, 28, 28])\n",
            "Shape of y: torch.Size([64])\n",
            "Shape of x [n, c, h, w]: torch.Size([64, 1, 28, 28])\n",
            "Shape of y: torch.Size([64])\n",
            "Shape of x [n, c, h, w]: torch.Size([64, 1, 28, 28])\n",
            "Shape of y: torch.Size([64])\n",
            "Shape of x [n, c, h, w]: torch.Size([64, 1, 28, 28])\n",
            "Shape of y: torch.Size([64])\n",
            "Shape of x [n, c, h, w]: torch.Size([64, 1, 28, 28])\n",
            "Shape of y: torch.Size([64])\n",
            "Shape of x [n, c, h, w]: torch.Size([64, 1, 28, 28])\n",
            "Shape of y: torch.Size([64])\n",
            "Shape of x [n, c, h, w]: torch.Size([64, 1, 28, 28])\n",
            "Shape of y: torch.Size([64])\n",
            "Shape of x [n, c, h, w]: torch.Size([64, 1, 28, 28])\n",
            "Shape of y: torch.Size([64])\n",
            "Shape of x [n, c, h, w]: torch.Size([64, 1, 28, 28])\n",
            "Shape of y: torch.Size([64])\n",
            "Shape of x [n, c, h, w]: torch.Size([64, 1, 28, 28])\n",
            "Shape of y: torch.Size([64])\n",
            "Shape of x [n, c, h, w]: torch.Size([64, 1, 28, 28])\n",
            "Shape of y: torch.Size([64])\n",
            "Shape of x [n, c, h, w]: torch.Size([64, 1, 28, 28])\n",
            "Shape of y: torch.Size([64])\n",
            "Shape of x [n, c, h, w]: torch.Size([64, 1, 28, 28])\n",
            "Shape of y: torch.Size([64])\n",
            "Shape of x [n, c, h, w]: torch.Size([64, 1, 28, 28])\n",
            "Shape of y: torch.Size([64])\n",
            "Shape of x [n, c, h, w]: torch.Size([64, 1, 28, 28])\n",
            "Shape of y: torch.Size([64])\n",
            "Shape of x [n, c, h, w]: torch.Size([64, 1, 28, 28])\n",
            "Shape of y: torch.Size([64])\n",
            "Shape of x [n, c, h, w]: torch.Size([64, 1, 28, 28])\n",
            "Shape of y: torch.Size([64])\n",
            "Shape of x [n, c, h, w]: torch.Size([64, 1, 28, 28])\n",
            "Shape of y: torch.Size([64])\n",
            "Shape of x [n, c, h, w]: torch.Size([64, 1, 28, 28])\n",
            "Shape of y: torch.Size([64])\n",
            "Shape of x [n, c, h, w]: torch.Size([64, 1, 28, 28])\n",
            "Shape of y: torch.Size([64])\n",
            "Shape of x [n, c, h, w]: torch.Size([64, 1, 28, 28])\n",
            "Shape of y: torch.Size([64])\n",
            "Shape of x [n, c, h, w]: torch.Size([64, 1, 28, 28])\n",
            "Shape of y: torch.Size([64])\n",
            "Shape of x [n, c, h, w]: torch.Size([64, 1, 28, 28])\n",
            "Shape of y: torch.Size([64])\n",
            "Shape of x [n, c, h, w]: torch.Size([64, 1, 28, 28])\n",
            "Shape of y: torch.Size([64])\n",
            "Shape of x [n, c, h, w]: torch.Size([64, 1, 28, 28])\n",
            "Shape of y: torch.Size([64])\n",
            "Shape of x [n, c, h, w]: torch.Size([64, 1, 28, 28])\n",
            "Shape of y: torch.Size([64])\n",
            "Shape of x [n, c, h, w]: torch.Size([64, 1, 28, 28])\n",
            "Shape of y: torch.Size([64])\n",
            "Shape of x [n, c, h, w]: torch.Size([64, 1, 28, 28])\n",
            "Shape of y: torch.Size([64])\n",
            "Shape of x [n, c, h, w]: torch.Size([64, 1, 28, 28])\n",
            "Shape of y: torch.Size([64])\n",
            "Shape of x [n, c, h, w]: torch.Size([64, 1, 28, 28])\n",
            "Shape of y: torch.Size([64])\n",
            "Shape of x [n, c, h, w]: torch.Size([64, 1, 28, 28])\n",
            "Shape of y: torch.Size([64])\n",
            "Shape of x [n, c, h, w]: torch.Size([64, 1, 28, 28])\n",
            "Shape of y: torch.Size([64])\n",
            "Shape of x [n, c, h, w]: torch.Size([64, 1, 28, 28])\n",
            "Shape of y: torch.Size([64])\n",
            "Shape of x [n, c, h, w]: torch.Size([64, 1, 28, 28])\n",
            "Shape of y: torch.Size([64])\n",
            "Shape of x [n, c, h, w]: torch.Size([64, 1, 28, 28])\n",
            "Shape of y: torch.Size([64])\n",
            "Shape of x [n, c, h, w]: torch.Size([64, 1, 28, 28])\n",
            "Shape of y: torch.Size([64])\n",
            "Shape of x [n, c, h, w]: torch.Size([64, 1, 28, 28])\n",
            "Shape of y: torch.Size([64])\n",
            "Shape of x [n, c, h, w]: torch.Size([64, 1, 28, 28])\n",
            "Shape of y: torch.Size([64])\n",
            "Shape of x [n, c, h, w]: torch.Size([64, 1, 28, 28])\n",
            "Shape of y: torch.Size([64])\n",
            "Shape of x [n, c, h, w]: torch.Size([64, 1, 28, 28])\n",
            "Shape of y: torch.Size([64])\n",
            "Shape of x [n, c, h, w]: torch.Size([64, 1, 28, 28])\n",
            "Shape of y: torch.Size([64])\n",
            "Shape of x [n, c, h, w]: torch.Size([64, 1, 28, 28])\n",
            "Shape of y: torch.Size([64])\n",
            "Shape of x [n, c, h, w]: torch.Size([64, 1, 28, 28])\n",
            "Shape of y: torch.Size([64])\n",
            "Shape of x [n, c, h, w]: torch.Size([64, 1, 28, 28])\n",
            "Shape of y: torch.Size([64])\n",
            "Shape of x [n, c, h, w]: torch.Size([64, 1, 28, 28])\n",
            "Shape of y: torch.Size([64])\n",
            "Shape of x [n, c, h, w]: torch.Size([64, 1, 28, 28])\n",
            "Shape of y: torch.Size([64])\n",
            "Shape of x [n, c, h, w]: torch.Size([64, 1, 28, 28])\n",
            "Shape of y: torch.Size([64])\n",
            "Shape of x [n, c, h, w]: torch.Size([64, 1, 28, 28])\n",
            "Shape of y: torch.Size([64])\n",
            "Shape of x [n, c, h, w]: torch.Size([64, 1, 28, 28])\n",
            "Shape of y: torch.Size([64])\n",
            "Shape of x [n, c, h, w]: torch.Size([16, 1, 28, 28])\n",
            "Shape of y: torch.Size([16])\n"
          ]
        }
      ]
    },
    {
      "cell_type": "markdown",
      "source": [
        "## Создание модели\n",
        "\n",
        "Для объявления нейросети в PyTorch мы создаём класс, который наследуется от `nn.Module`. Мы объявляем слои нейросети в методе `__init__` и определяем как данные будут проходить через нейросеть в методе `forward`. Для ускорения операций в нейросети, мы используем GPU или MPS, если доступны."
      ],
      "metadata": {
        "id": "TqbC7PCzZdsi"
      }
    },
    {
      "cell_type": "code",
      "source": [
        "device = (\n",
        "    \"cuda\"\n",
        "    if torch.cuda.is_available()\n",
        "    else \"mps\"\n",
        "    if torch.backends.mps.is_available()\n",
        "    else \"cpu\"\n",
        ")\n",
        "\n",
        "print(f\"Using {device} device\")\n",
        "\n",
        "class NeuralNetwork(nn.Module):\n",
        "    def __init__(self):\n",
        "        super().__init__()\n",
        "        self.flatten = nn.Flatten()\n",
        "        self.linear_relu_stack = nn.Sequential(\n",
        "            nn.Linear(28*28, 512),\n",
        "            nn.ReLU(),\n",
        "            nn.Linear(512, 512),\n",
        "            nn.ReLU(),\n",
        "            nn.Linear(512, 10)\n",
        "        )\n",
        "\n",
        "    def forward(self, x):\n",
        "        x = self.flatten(x)\n",
        "        logits = self.linear_relu_stack(x)\n",
        "        return logits\n",
        "\n",
        "model = NeuralNetwork().to(device)\n",
        "print(model)\n"
      ],
      "metadata": {
        "colab": {
          "base_uri": "https://localhost:8080/"
        },
        "id": "XNp_qxEMZdBh",
        "outputId": "2319db82-29b3-42dd-c349-e9541d3b2be0"
      },
      "execution_count": 4,
      "outputs": [
        {
          "output_type": "stream",
          "name": "stdout",
          "text": [
            "Using cpu device\n",
            "NeuralNetwork(\n",
            "  (flatten): Flatten(start_dim=1, end_dim=-1)\n",
            "  (linear_relu_stack): Sequential(\n",
            "    (0): Linear(in_features=784, out_features=512, bias=True)\n",
            "    (1): ReLU()\n",
            "    (2): Linear(in_features=512, out_features=512, bias=True)\n",
            "    (3): ReLU()\n",
            "    (4): Linear(in_features=512, out_features=10, bias=True)\n",
            "  )\n",
            ")\n"
          ]
        }
      ]
    },
    {
      "cell_type": "markdown",
      "source": [
        "Почитать больше о [построении нейросетей в PyTorch](https://pytorch.org/tutorials/beginner/basics/buildmodel_tutorial.html)"
      ],
      "metadata": {
        "id": "Vl8BWB-7a1nv"
      }
    },
    {
      "cell_type": "markdown",
      "source": [
        "# Оптимизация параметров модели\n",
        "\n",
        "Для тренировки модели нам необходимы [функция потерь](https://pytorch.org/docs/stable/nn.html#loss-functions) и [оптимизатор](https://pytorch.org/docs/stable/optim.html)."
      ],
      "metadata": {
        "id": "ZmleIy3hbBe6"
      }
    },
    {
      "cell_type": "code",
      "source": [
        "loss_fn = nn.CrossEntropyLoss()\n",
        "optimizer = torch.optim.SGD(model.parameters(), lr=1e-3)\n"
      ],
      "metadata": {
        "id": "3aSEvQF6a_o-"
      },
      "execution_count": 5,
      "outputs": []
    },
    {
      "cell_type": "markdown",
      "source": [
        "В одном цикле обучения модель делает предсказания на тренировочном наборе данных (подаваемого в неё группами) и распространяет обратно ошибку для улучшения параметров."
      ],
      "metadata": {
        "id": "L3TZYvE4brYV"
      }
    },
    {
      "cell_type": "code",
      "source": [
        "from tqdm import tqdm\n",
        "\n",
        "def train(dataloader, model, loss_fn, optimizer):\n",
        "    size = len(dataloader.dataset)  # Общее количество данных\n",
        "    model.train()\n",
        "\n",
        "    # Создаем прогресс-бар\n",
        "    progress_bar = tqdm(total=size, desc=\"Training\", unit=\"sample\")\n",
        "\n",
        "    for batch, (x, y) in enumerate(dataloader):\n",
        "        x, y = x.to(device), y.to(device)\n",
        "\n",
        "        # Вычисление ошибки предсказания\n",
        "        pred = model(x)\n",
        "        loss = loss_fn(pred, y)\n",
        "\n",
        "        # Обратное распространение ошибки\n",
        "        loss.backward()\n",
        "        optimizer.step()\n",
        "        optimizer.zero_grad()\n",
        "\n",
        "        # Обновляем прогресс-бар на количество обработанных элементов\n",
        "        progress_bar.update(len(x))\n",
        "\n",
        "        # Логгируем каждые 100 батчей\n",
        "        if batch % 100 == 0:\n",
        "            loss_value = loss.item()\n",
        "            current = batch * len(x)\n",
        "            # print(f\"Loss: {loss_value:.6f} [{current}/{size}]\")\n",
        "\n",
        "    progress_bar.close()\n"
      ],
      "metadata": {
        "id": "Na1uXA0Cb-hB"
      },
      "execution_count": 6,
      "outputs": []
    },
    {
      "cell_type": "markdown",
      "source": [
        "Также мы проверяем производительность модели на тестовом наборе данных, чтобы убедиться, что она обучается."
      ],
      "metadata": {
        "id": "05RkmwKjc7Z0"
      }
    },
    {
      "cell_type": "code",
      "source": [
        "def test(dataloader, model, loss_fn):\n",
        "    size = len(dataloader.dataset)\n",
        "    num_batches = len(dataloader)\n",
        "\n",
        "    model.eval()\n",
        "\n",
        "    test_loss = 0\n",
        "    correct = 0\n",
        "\n",
        "    with torch.no_grad():\n",
        "        for x, y in dataloader:\n",
        "            x, y = x.to(device), y.to(device)\n",
        "\n",
        "            pred = model(x)\n",
        "            test_loss += loss_fn(pred, y).item()\n",
        "            correct += (pred.argmax(1) == y).type(torch.float).sum().item()\n",
        "\n",
        "    test_loss /= num_batches\n",
        "    correct /= size\n",
        "\n",
        "    print(f\"Test Error: \\n Accuracy: {(100*correct):>0.1f}%, Avg loss: {test_loss:>8f} \\n\")\n"
      ],
      "metadata": {
        "id": "0g-D8mD9dFO6"
      },
      "execution_count": 7,
      "outputs": []
    },
    {
      "cell_type": "markdown",
      "source": [
        "Процесс обучения проводится через несколько итерация (эпох). В течение каждой эпохи модель обучает параметры делать лучшие предсказания. Вы выводим точность модели и потери на каждой эпохе. Хотелось бы видеть увеличение точности и уменьшение потерь каждую эпоху."
      ],
      "metadata": {
        "id": "kV1cEaMEd0P7"
      }
    },
    {
      "cell_type": "code",
      "source": [
        "epochs = 5\n",
        "\n",
        "for t in range(epochs):\n",
        "    print(f\"Epoch {t+1}\\n--------------------------------------------------------------------\")\n",
        "    train(train_dataloader, model, loss_fn, optimizer)\n",
        "    test(train_dataloader, model, loss_fn)\n",
        "\n",
        "print(\"Done!\")\n"
      ],
      "metadata": {
        "colab": {
          "base_uri": "https://localhost:8080/"
        },
        "id": "TOAYhST2dvzQ",
        "outputId": "4bcf8fdf-99e8-4c80-e7bf-98a364980e1f"
      },
      "execution_count": 8,
      "outputs": [
        {
          "output_type": "stream",
          "name": "stdout",
          "text": [
            "Epoch 1\n",
            "--------------------------------------------------------------------\n"
          ]
        },
        {
          "output_type": "stream",
          "name": "stderr",
          "text": [
            "Training: 100%|██████████| 60000/60000 [00:25<00:00, 2391.74sample/s]\n"
          ]
        },
        {
          "output_type": "stream",
          "name": "stdout",
          "text": [
            "Test Error: \n",
            " Accuracy: 51.1%, Avg loss: 2.159808 \n",
            "\n",
            "Epoch 2\n",
            "--------------------------------------------------------------------\n"
          ]
        },
        {
          "output_type": "stream",
          "name": "stderr",
          "text": [
            "Training: 100%|██████████| 60000/60000 [00:15<00:00, 3976.93sample/s]\n"
          ]
        },
        {
          "output_type": "stream",
          "name": "stdout",
          "text": [
            "Test Error: \n",
            " Accuracy: 61.1%, Avg loss: 1.896836 \n",
            "\n",
            "Epoch 3\n",
            "--------------------------------------------------------------------\n"
          ]
        },
        {
          "output_type": "stream",
          "name": "stderr",
          "text": [
            "Training: 100%|██████████| 60000/60000 [00:15<00:00, 3800.96sample/s]\n"
          ]
        },
        {
          "output_type": "stream",
          "name": "stdout",
          "text": [
            "Test Error: \n",
            " Accuracy: 64.2%, Avg loss: 1.524458 \n",
            "\n",
            "Epoch 4\n",
            "--------------------------------------------------------------------\n"
          ]
        },
        {
          "output_type": "stream",
          "name": "stderr",
          "text": [
            "Training: 100%|██████████| 60000/60000 [00:15<00:00, 3844.99sample/s]\n"
          ]
        },
        {
          "output_type": "stream",
          "name": "stdout",
          "text": [
            "Test Error: \n",
            " Accuracy: 64.6%, Avg loss: 1.251977 \n",
            "\n",
            "Epoch 5\n",
            "--------------------------------------------------------------------\n"
          ]
        },
        {
          "output_type": "stream",
          "name": "stderr",
          "text": [
            "Training: 100%|██████████| 60000/60000 [00:14<00:00, 4009.82sample/s]\n"
          ]
        },
        {
          "output_type": "stream",
          "name": "stdout",
          "text": [
            "Test Error: \n",
            " Accuracy: 65.7%, Avg loss: 1.081538 \n",
            "\n",
            "Done!\n"
          ]
        }
      ]
    },
    {
      "cell_type": "markdown",
      "source": [
        "## Сохранение модели\n",
        "\n",
        "Общий подход сохранения модели это сериализация внутреннего состояния словаря (содержащего параметры модели)."
      ],
      "metadata": {
        "id": "DIU1BT5EfOR8"
      }
    },
    {
      "cell_type": "code",
      "source": [
        "MODEL_FILE: str = \"model.pth\"\n",
        "\n",
        "state_dict = model.state_dict()\n",
        "\n",
        "torch.save(state_dict, MODEL_FILE)\n",
        "print(f\"Saved PyTorch Model State to {MODEL_FILE}\")\n"
      ],
      "metadata": {
        "colab": {
          "base_uri": "https://localhost:8080/"
        },
        "id": "w3clf4ynfsCw",
        "outputId": "e4d29fd6-f345-4d0c-d869-fd33cad3fc42"
      },
      "execution_count": 9,
      "outputs": [
        {
          "output_type": "stream",
          "name": "stdout",
          "text": [
            "Saved PyTorch Model State to model.pth\n"
          ]
        }
      ]
    },
    {
      "cell_type": "markdown",
      "source": [
        "## Загрузка модели\n",
        "\n",
        "Процесс загрузки модели включает в себя пересоздание структуры модели и загрузки состояния словаря в неё."
      ],
      "metadata": {
        "id": "vnXmtXPWfqIt"
      }
    },
    {
      "cell_type": "code",
      "source": [
        "model = NeuralNetwork().to(device)\n",
        "model.load_state_dict(torch.load(MODEL_FILE, weights_only=True))\n",
        "\n",
        "print(model)\n"
      ],
      "metadata": {
        "colab": {
          "base_uri": "https://localhost:8080/"
        },
        "id": "Ww_CD93mfb00",
        "outputId": "16203b57-4b99-4555-be07-8733da495efd"
      },
      "execution_count": 10,
      "outputs": [
        {
          "output_type": "stream",
          "name": "stdout",
          "text": [
            "NeuralNetwork(\n",
            "  (flatten): Flatten(start_dim=1, end_dim=-1)\n",
            "  (linear_relu_stack): Sequential(\n",
            "    (0): Linear(in_features=784, out_features=512, bias=True)\n",
            "    (1): ReLU()\n",
            "    (2): Linear(in_features=512, out_features=512, bias=True)\n",
            "    (3): ReLU()\n",
            "    (4): Linear(in_features=512, out_features=10, bias=True)\n",
            "  )\n",
            ")\n"
          ]
        }
      ]
    },
    {
      "cell_type": "markdown",
      "source": [
        "Теперь эта модель может использоваться для предсказаний."
      ],
      "metadata": {
        "id": "C6NcaPU_gcVC"
      }
    },
    {
      "cell_type": "code",
      "source": [
        "classes = [\n",
        "    \"T-shirt/top\",\n",
        "    \"Trouser\",\n",
        "    \"Pullover\",\n",
        "    \"Dress\",\n",
        "    \"Coat\",\n",
        "    \"Sandal\",\n",
        "    \"Shirt\",\n",
        "    \"Sneaker\",\n",
        "    \"Bag\",\n",
        "    \"Ankle boot\",\n",
        "]\n",
        "\n",
        "model.eval()\n",
        "\n",
        "data, label = 0, 1\n",
        "\n",
        "for idx in range(len(classes)):\n",
        "    x, y = test_data[idx][data], test_data[idx][label]\n",
        "\n",
        "    with torch.no_grad():\n",
        "        x = x.to(device)\n",
        "        pred = model(x)\n",
        "        predicted, actual = classes[pred[0].argmax(0)], classes[y]\n",
        "        print(f\"Predicted: \\\"{predicted}\\\", Actual: \\\"{actual}\\\", result: \\\"{predicted == actual}\\\"\")\n"
      ],
      "metadata": {
        "colab": {
          "base_uri": "https://localhost:8080/"
        },
        "id": "FAGjJDj9ggUf",
        "outputId": "af1d5d2b-e4e2-4930-a5f4-77d89ca1a7f2"
      },
      "execution_count": 11,
      "outputs": [
        {
          "output_type": "stream",
          "name": "stdout",
          "text": [
            "Predicted: \"Ankle boot\", Actual: \"Ankle boot\", result: \"True\"\n",
            "Predicted: \"Pullover\", Actual: \"Pullover\", result: \"True\"\n",
            "Predicted: \"Trouser\", Actual: \"Trouser\", result: \"True\"\n",
            "Predicted: \"Trouser\", Actual: \"Trouser\", result: \"True\"\n",
            "Predicted: \"Pullover\", Actual: \"Shirt\", result: \"False\"\n",
            "Predicted: \"Trouser\", Actual: \"Trouser\", result: \"True\"\n",
            "Predicted: \"Coat\", Actual: \"Coat\", result: \"True\"\n",
            "Predicted: \"Pullover\", Actual: \"Shirt\", result: \"False\"\n",
            "Predicted: \"Sneaker\", Actual: \"Sandal\", result: \"False\"\n",
            "Predicted: \"Sneaker\", Actual: \"Sneaker\", result: \"True\"\n"
          ]
        }
      ]
    }
  ]
}