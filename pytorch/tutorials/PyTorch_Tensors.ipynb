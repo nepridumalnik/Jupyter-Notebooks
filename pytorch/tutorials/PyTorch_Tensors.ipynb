{
  "nbformat": 4,
  "nbformat_minor": 0,
  "metadata": {
    "colab": {
      "provenance": [],
      "gpuType": "T4",
      "authorship_tag": "ABX9TyMKon2+ghD9SRhyDjotzTK7",
      "include_colab_link": true
    },
    "kernelspec": {
      "name": "python3",
      "display_name": "Python 3"
    },
    "language_info": {
      "name": "python"
    },
    "accelerator": "GPU"
  },
  "cells": [
    {
      "cell_type": "markdown",
      "metadata": {
        "id": "view-in-github",
        "colab_type": "text"
      },
      "source": [
        "<a href=\"https://colab.research.google.com/github/nepridumalnik/Jupyter-Notebooks/blob/master/pytorch/tutorials/PyTorch_Tensors.ipynb\" target=\"_parent\"><img src=\"https://colab.research.google.com/assets/colab-badge.svg\" alt=\"Open In Colab\"/></a>"
      ]
    },
    {
      "cell_type": "markdown",
      "source": [
        "# Тензоры\n",
        "\n",
        "Тензоры это специализированные структуры данных, очень схожие с массивами и матрицами. В PyTorch используются тензоры для кодирования вводов и выводов моделей, а также их параметров.\n",
        "\n",
        "Тензоры схожи с `ndarray` из NumPy за исключением того, что могут запускаться на GPU и прочих аппаратных ускорителях. На деле тензоры и массивы NumPy могут разделять общую память без необходимости копирования (см. раздел [Bridge with NumPy](https://pytorch.org/tutorials/beginner/blitz/tensor_tutorial.html#bridge-to-np-label)). Тензоры также оптимизированы для автоматического дифференцирования (подробнее разбирается в секции [автоматический градиент](https://pytorch.org/tutorials/beginner/basics/autogradqs_tutorial.html)). Если вы знакомы с `ndarray`, будете чувствовать себя с Tensor API как дома, если нет - следуйте инструкциям!"
      ],
      "metadata": {
        "id": "yt8DSboatHL3"
      }
    },
    {
      "cell_type": "code",
      "execution_count": 26,
      "metadata": {
        "id": "AdorzvUZtEdk"
      },
      "outputs": [],
      "source": [
        "import torch\n",
        "import numpy as np\n"
      ]
    },
    {
      "cell_type": "markdown",
      "source": [
        "## Инициализация тензора\n",
        "\n",
        "Тензор может быть инициализирован разными способами. Посмотрите на первый пример:\n",
        "\n",
        "__Напрямую из данных__\n",
        "\n",
        "Тензор может быть создан напрямую из данных, тип данных определится автоматически."
      ],
      "metadata": {
        "id": "N5Z9tjm7uhuw"
      }
    },
    {
      "cell_type": "code",
      "source": [
        "data = [[1, 2], [3, 4]]\n",
        "x_data = torch.tensor(data)\n",
        "\n",
        "data, x_data\n"
      ],
      "metadata": {
        "colab": {
          "base_uri": "https://localhost:8080/"
        },
        "id": "rZIIsOfnugw0",
        "outputId": "3a320b99-9668-4a22-a702-d6ec6ccc25ad"
      },
      "execution_count": 27,
      "outputs": [
        {
          "output_type": "execute_result",
          "data": {
            "text/plain": [
              "([[1, 2], [3, 4]],\n",
              " tensor([[1, 2],\n",
              "         [3, 4]]))"
            ]
          },
          "metadata": {},
          "execution_count": 27
        }
      ]
    },
    {
      "cell_type": "markdown",
      "source": [
        "__Из массива NumPy__\n",
        "\n",
        "Тензор может быть создан из массива NumPy (и наоборот - см. раздел [Bridge with NumPy](https://pytorch.org/tutorials/beginner/blitz/tensor_tutorial.html#bridge-to-np-label))."
      ],
      "metadata": {
        "id": "VhYh9eT9vB8j"
      }
    },
    {
      "cell_type": "code",
      "source": [
        "np_array = np.array(data)\n",
        "x_np = torch.from_numpy(np_array)\n",
        "\n",
        "np_array, x_np\n"
      ],
      "metadata": {
        "colab": {
          "base_uri": "https://localhost:8080/"
        },
        "id": "NWSg8fKdvAdD",
        "outputId": "b6631438-2388-4a73-840b-41a1e2e98fd7"
      },
      "execution_count": 28,
      "outputs": [
        {
          "output_type": "execute_result",
          "data": {
            "text/plain": [
              "(array([[1, 2],\n",
              "        [3, 4]]),\n",
              " tensor([[1, 2],\n",
              "         [3, 4]]))"
            ]
          },
          "metadata": {},
          "execution_count": 28
        }
      ]
    },
    {
      "cell_type": "markdown",
      "source": [
        "__Из другого тензора__\n",
        "\n",
        "Новый тензор сохранит свойства (размер. тип данных) оригинального тензора, если они не будут явно переопределены."
      ],
      "metadata": {
        "id": "7OaonxNEvrou"
      }
    },
    {
      "cell_type": "code",
      "source": [
        "x_ones = torch.ones_like(x_data) # Сохраняет свойства оригинального тензора\n",
        "print(f\"Ones Tensor:\\n{x_ones}\")\n",
        "\n",
        "x_rand = torch.rand_like(x_data, dtype=torch.float) # Тип данных оригинального тензора переопределён\n",
        "print(f\"Random Tensor:\\n{x_rand}\")\n"
      ],
      "metadata": {
        "colab": {
          "base_uri": "https://localhost:8080/"
        },
        "id": "aJxJFBfIv5po",
        "outputId": "52d29d9c-b793-43f8-862b-130584c65b6e"
      },
      "execution_count": 29,
      "outputs": [
        {
          "output_type": "stream",
          "name": "stdout",
          "text": [
            "Ones Tensor:\n",
            "tensor([[1, 1],\n",
            "        [1, 1]])\n",
            "Random Tensor:\n",
            "tensor([[0.0425, 0.1797],\n",
            "        [0.4216, 0.3326]])\n"
          ]
        }
      ]
    },
    {
      "cell_type": "markdown",
      "source": [
        "__Со случайными или константными значениями__\n",
        "\n",
        "`shape` это кортеж с измерениями тензора. В коде ниже он определяет размерность выходного тензора."
      ],
      "metadata": {
        "id": "n1x8-2Wvwmp2"
      }
    },
    {
      "cell_type": "code",
      "source": [
        "shape = (2, 3,)\n",
        "\n",
        "rand_tensor = torch.rand(shape)\n",
        "ones_tensor = torch.ones(shape)\n",
        "zeros_tensor = torch.zeros(shape)\n",
        "\n",
        "print(f\"Random Tensor:\\n{rand_tensor}\")\n",
        "print(f\"Random Tensor:\\n{ones_tensor}\")\n",
        "print(f\"Random Tensor:\\n{zeros_tensor}\")\n"
      ],
      "metadata": {
        "colab": {
          "base_uri": "https://localhost:8080/"
        },
        "id": "Oq575aYtwzE7",
        "outputId": "3379702c-729e-4533-efa7-43ded0a61e9a"
      },
      "execution_count": 30,
      "outputs": [
        {
          "output_type": "stream",
          "name": "stdout",
          "text": [
            "Random Tensor:\n",
            "tensor([[0.0364, 0.6562, 0.7279],\n",
            "        [0.0374, 0.3633, 0.2284]])\n",
            "Random Tensor:\n",
            "tensor([[1., 1., 1.],\n",
            "        [1., 1., 1.]])\n",
            "Random Tensor:\n",
            "tensor([[0., 0., 0.],\n",
            "        [0., 0., 0.]])\n"
          ]
        }
      ]
    },
    {
      "cell_type": "markdown",
      "source": [
        "## Атрибуты тензора\n",
        "\n",
        "Атрибуты тензоров описывают их размер, тип данных и устройство на котором они хранятся."
      ],
      "metadata": {
        "id": "w_1w1NFbxJTS"
      }
    },
    {
      "cell_type": "code",
      "source": [
        "tensor = torch.rand(3, 4)\n",
        "\n",
        "print(f\"Shape of tensor: {tensor.shape}\")\n",
        "print(f\"Type of tensor: {tensor.dtype}\")\n",
        "print(f\"Device of tensor: {tensor.device}\")\n"
      ],
      "metadata": {
        "colab": {
          "base_uri": "https://localhost:8080/"
        },
        "id": "i6I1117LxSmd",
        "outputId": "81086d6c-ac0e-49c1-a1f3-e61a008e3ca8"
      },
      "execution_count": 31,
      "outputs": [
        {
          "output_type": "stream",
          "name": "stdout",
          "text": [
            "Shape of tensor: torch.Size([3, 4])\n",
            "Type of tensor: torch.float32\n",
            "Device of tensor: cpu\n"
          ]
        }
      ]
    },
    {
      "cell_type": "markdown",
      "source": [
        "## Операции с тензорами\n",
        "\n",
        "Более сотни операция с тензорами, включая арифметические, линейную алгебру, работу с матрицами (транспонирование, индексация, срезы), сэмплирование и многое другое подробно описаны [здесь](https://pytorch.org/docs/stable/torch.html).\n",
        "\n",
        "Каждая из этих операция может быть запущена на GPU (так как обычно это быстрее, чем на CPU). Если вы используете Colab, выделите GPU, пройдя в `Среда выполнения` -> `Сменить среду выполнения`.\n",
        "\n",
        "По умолчанию тензоры создаются на CPU, необходимо явно переместить их на GPU, используя метод `.to` (после проверки, доступности GPU). Помните, что копирование больших тензоров между устройствами может быть дорогим по времени и памяти!"
      ],
      "metadata": {
        "id": "XWLwNNjlx6Re"
      }
    },
    {
      "cell_type": "code",
      "source": [
        "if torch.cuda.is_available():\n",
        "    tensor = tensor.to(\"cuda\")\n",
        "\n",
        "tensor.device\n"
      ],
      "metadata": {
        "colab": {
          "base_uri": "https://localhost:8080/"
        },
        "id": "Rv5nkM_izIio",
        "outputId": "0b287b93-cf44-4837-b42c-560261e5db1d"
      },
      "execution_count": 32,
      "outputs": [
        {
          "output_type": "execute_result",
          "data": {
            "text/plain": [
              "device(type='cuda', index=0)"
            ]
          },
          "metadata": {},
          "execution_count": 32
        }
      ]
    },
    {
      "cell_type": "markdown",
      "source": [
        "Попробуйте операции из списка ниже. Если вы знакомы с NumPy API, вы найдёте, что Tensor API очень прост в использовании."
      ],
      "metadata": {
        "id": "VH7zQ95Q0wtW"
      }
    },
    {
      "cell_type": "code",
      "source": [
        "tensor = torch.ones(4, 4)\n",
        "\n",
        "print(f\"First row: {tensor[0]}\")\n",
        "print(f\"First column: {tensor[:, 0]}\")\n",
        "print(f\"Last column: {tensor[:, -1]}\")\n",
        "\n",
        "tensor[:, 1] = 0\n",
        "print(tensor)\n"
      ],
      "metadata": {
        "colab": {
          "base_uri": "https://localhost:8080/"
        },
        "id": "FQM5w1_61Ice",
        "outputId": "1350483c-cc32-4d21-ac8d-3e82bf9cef7c"
      },
      "execution_count": 33,
      "outputs": [
        {
          "output_type": "stream",
          "name": "stdout",
          "text": [
            "First row: tensor([1., 1., 1., 1.])\n",
            "First column: tensor([1., 1., 1., 1.])\n",
            "Last column: tensor([1., 1., 1., 1.])\n",
            "tensor([[1., 0., 1., 1.],\n",
            "        [1., 0., 1., 1.],\n",
            "        [1., 0., 1., 1.],\n",
            "        [1., 0., 1., 1.]])\n"
          ]
        }
      ]
    },
    {
      "cell_type": "markdown",
      "source": [
        "__Объединение тензоров__\n",
        "\n",
        "Вы можете использовать `torch.cat` для конкатенации последовательности тензоров вдоль указанного измерения. Смотри также [torch.stack](https://pytorch.org/docs/stable/generated/torch.stack.html), другую операцию по объединению тензоров, которая немного отличается от `torch.cat`."
      ],
      "metadata": {
        "id": "ZjlI577u1iMv"
      }
    },
    {
      "cell_type": "code",
      "source": [
        "t1 = torch.cat([tensor, tensor, tensor], dim=1)\n",
        "t1\n"
      ],
      "metadata": {
        "colab": {
          "base_uri": "https://localhost:8080/"
        },
        "id": "9zXDu23r16TZ",
        "outputId": "81b3c718-2bf3-4d9e-d1d1-a79b5fca3a1c"
      },
      "execution_count": 34,
      "outputs": [
        {
          "output_type": "execute_result",
          "data": {
            "text/plain": [
              "tensor([[1., 0., 1., 1., 1., 0., 1., 1., 1., 0., 1., 1.],\n",
              "        [1., 0., 1., 1., 1., 0., 1., 1., 1., 0., 1., 1.],\n",
              "        [1., 0., 1., 1., 1., 0., 1., 1., 1., 0., 1., 1.],\n",
              "        [1., 0., 1., 1., 1., 0., 1., 1., 1., 0., 1., 1.]])"
            ]
          },
          "metadata": {},
          "execution_count": 34
        }
      ]
    },
    {
      "cell_type": "markdown",
      "source": [
        "__Арифметические операции__\n"
      ],
      "metadata": {
        "id": "AJ0-p1P83E0e"
      }
    },
    {
      "cell_type": "code",
      "source": [
        "# Это применит операцию матричного умножения между двумя тензорами.\n",
        "# y1, y2 и y3 будут иметь одинаковые значения.\n",
        "y1 = tensor @ tensor\n",
        "y2 = tensor.matmul(tensor.T)\n",
        "\n",
        "y3 = torch.rand_like(y1)\n",
        "torch.matmul(tensor, tensor.T, out=y3)\n",
        "\n",
        "print(f\"y1: {y1}\")\n",
        "print(f\"y2: {y2}\")\n",
        "print(f\"y3: {y3}\")\n",
        "\n",
        "# Это применит поэлементное умножение.\n",
        "# z1, z2 и z3 будут иметь одинаковые значения.\n",
        "z1 = tensor * tensor\n",
        "z2 = tensor.mul(tensor)\n",
        "\n",
        "z3 = torch.rand_like(tensor)\n",
        "torch.mul(tensor, tensor, out=z3)\n",
        "\n",
        "print(f\"z1: {y1}\")\n",
        "print(f\"z2: {y2}\")\n",
        "print(f\"z3: {y3}\")\n"
      ],
      "metadata": {
        "colab": {
          "base_uri": "https://localhost:8080/"
        },
        "id": "izNqmwju3H7w",
        "outputId": "3c1bc164-fa57-4fb3-a145-0b15347c2572"
      },
      "execution_count": 35,
      "outputs": [
        {
          "output_type": "stream",
          "name": "stdout",
          "text": [
            "y1: tensor([[3., 0., 3., 3.],\n",
            "        [3., 0., 3., 3.],\n",
            "        [3., 0., 3., 3.],\n",
            "        [3., 0., 3., 3.]])\n",
            "y2: tensor([[3., 3., 3., 3.],\n",
            "        [3., 3., 3., 3.],\n",
            "        [3., 3., 3., 3.],\n",
            "        [3., 3., 3., 3.]])\n",
            "y3: tensor([[3., 3., 3., 3.],\n",
            "        [3., 3., 3., 3.],\n",
            "        [3., 3., 3., 3.],\n",
            "        [3., 3., 3., 3.]])\n",
            "z1: tensor([[3., 0., 3., 3.],\n",
            "        [3., 0., 3., 3.],\n",
            "        [3., 0., 3., 3.],\n",
            "        [3., 0., 3., 3.]])\n",
            "z2: tensor([[3., 3., 3., 3.],\n",
            "        [3., 3., 3., 3.],\n",
            "        [3., 3., 3., 3.],\n",
            "        [3., 3., 3., 3.]])\n",
            "z3: tensor([[3., 3., 3., 3.],\n",
            "        [3., 3., 3., 3.],\n",
            "        [3., 3., 3., 3.],\n",
            "        [3., 3., 3., 3.]])\n"
          ]
        }
      ]
    },
    {
      "cell_type": "markdown",
      "source": [
        "__Одноэлементный тензор__\n",
        "\n",
        "Если есть тензор размером в один элемент, например, после сложения всех значений в одно, можно конвертировать это в числовое значение Python, используя метод `item()`:"
      ],
      "metadata": {
        "id": "qlHVHe_l6SXd"
      }
    },
    {
      "cell_type": "code",
      "source": [
        "agg = tensor.sum()\n",
        "agg_item = agg.item()\n",
        "agg_item\n"
      ],
      "metadata": {
        "colab": {
          "base_uri": "https://localhost:8080/"
        },
        "id": "BnkRawtb6iKU",
        "outputId": "2102801a-69ef-4fdb-d681-bb22a057bef2"
      },
      "execution_count": 36,
      "outputs": [
        {
          "output_type": "execute_result",
          "data": {
            "text/plain": [
              "12.0"
            ]
          },
          "metadata": {},
          "execution_count": 36
        }
      ]
    },
    {
      "cell_type": "markdown",
      "source": [
        "__In-place операции (без дополнительного использования памяти)__\n",
        "\n",
        "Операции, которые сохраняют результат в операнд, называются `in-place`. Они отмечены `_` суффиксом. Например: `x.copy_(y)`, `x.t_()`, изменят `x`."
      ],
      "metadata": {
        "id": "_NipIHU_660u"
      }
    },
    {
      "cell_type": "code",
      "source": [
        "print(f\"Tensor: {tensor}\")\n",
        "tensor.add_(5)\n",
        "print(f\"Tensor: {tensor}\")\n"
      ],
      "metadata": {
        "colab": {
          "base_uri": "https://localhost:8080/"
        },
        "id": "S1NVxtZz66tc",
        "outputId": "5e5d13df-aba7-4e81-c68a-af3a72b8756f"
      },
      "execution_count": 37,
      "outputs": [
        {
          "output_type": "stream",
          "name": "stdout",
          "text": [
            "Tensor: tensor([[1., 0., 1., 1.],\n",
            "        [1., 0., 1., 1.],\n",
            "        [1., 0., 1., 1.],\n",
            "        [1., 0., 1., 1.]])\n",
            "Tensor: tensor([[6., 5., 6., 6.],\n",
            "        [6., 5., 6., 6.],\n",
            "        [6., 5., 6., 6.],\n",
            "        [6., 5., 6., 6.]])\n"
          ]
        }
      ]
    },
    {
      "cell_type": "markdown",
      "source": [
        "# Трансляция с NumPy\n",
        "Тензоры на CPU и NumPy массивы могут разделять общую память и изменение одного приводит к изменению другого.\n",
        "\n",
        "## Тензор в массив NumPy"
      ],
      "metadata": {
        "id": "oFoSk_GV7iU_"
      }
    },
    {
      "cell_type": "code",
      "source": [
        "t = torch.ones(5)\n",
        "print(f\"t: {t}\")\n",
        "\n",
        "n = t.numpy()\n",
        "print(f\"n: {n}\")\n"
      ],
      "metadata": {
        "colab": {
          "base_uri": "https://localhost:8080/"
        },
        "id": "SzQZ21KY70QV",
        "outputId": "1928047b-25e5-4148-8dd5-9835f0ba70e6"
      },
      "execution_count": 38,
      "outputs": [
        {
          "output_type": "stream",
          "name": "stdout",
          "text": [
            "t: tensor([1., 1., 1., 1., 1.])\n",
            "n: [1. 1. 1. 1. 1.]\n"
          ]
        }
      ]
    },
    {
      "cell_type": "code",
      "source": [
        "t.add_(1)\n",
        "print(f\"t: {t}\")\n",
        "print(f\"n: {n}\")\n"
      ],
      "metadata": {
        "colab": {
          "base_uri": "https://localhost:8080/"
        },
        "id": "MNugwEX48A2F",
        "outputId": "0839ffab-5216-4f0e-8841-e08d91d18004"
      },
      "execution_count": 39,
      "outputs": [
        {
          "output_type": "stream",
          "name": "stdout",
          "text": [
            "t: tensor([2., 2., 2., 2., 2.])\n",
            "n: [2. 2. 2. 2. 2.]\n"
          ]
        }
      ]
    },
    {
      "cell_type": "markdown",
      "source": [
        "## NumPy массив в тензор"
      ],
      "metadata": {
        "id": "d5aWrQC58qlU"
      }
    },
    {
      "cell_type": "code",
      "source": [
        "n = np.ones(5)\n",
        "t = torch.from_numpy(n)\n",
        "\n",
        "print(f\"t: {t}\")\n",
        "print(f\"n: {n}\")\n"
      ],
      "metadata": {
        "colab": {
          "base_uri": "https://localhost:8080/"
        },
        "id": "zGDiPi3f8td4",
        "outputId": "712acbb8-2deb-421e-99fb-3637dc3638a5"
      },
      "execution_count": 40,
      "outputs": [
        {
          "output_type": "stream",
          "name": "stdout",
          "text": [
            "t: tensor([1., 1., 1., 1., 1.], dtype=torch.float64)\n",
            "n: [1. 1. 1. 1. 1.]\n"
          ]
        }
      ]
    },
    {
      "cell_type": "code",
      "source": [
        "t.add_(1)\n",
        "print(f\"t: {t}\")\n",
        "print(f\"n: {n}\")\n"
      ],
      "metadata": {
        "colab": {
          "base_uri": "https://localhost:8080/"
        },
        "id": "N0tqsN3t81NS",
        "outputId": "c173697b-ef28-44e8-f050-f3c45df7a2bb"
      },
      "execution_count": 41,
      "outputs": [
        {
          "output_type": "stream",
          "name": "stdout",
          "text": [
            "t: tensor([2., 2., 2., 2., 2.], dtype=torch.float64)\n",
            "n: [2. 2. 2. 2. 2.]\n"
          ]
        }
      ]
    },
    {
      "cell_type": "code",
      "source": [
        "np.add(n, 1, out=n)\n",
        "print(f\"t: {t}\")\n",
        "print(f\"n: {n}\")\n"
      ],
      "metadata": {
        "colab": {
          "base_uri": "https://localhost:8080/"
        },
        "id": "JM7xH3vp9Aqx",
        "outputId": "c6d3cb75-d08e-4c0c-ab9a-b072f9c54921"
      },
      "execution_count": 42,
      "outputs": [
        {
          "output_type": "stream",
          "name": "stdout",
          "text": [
            "t: tensor([3., 3., 3., 3., 3.], dtype=torch.float64)\n",
            "n: [3. 3. 3. 3. 3.]\n"
          ]
        }
      ]
    }
  ]
}